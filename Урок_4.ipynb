{
  "nbformat": 4,
  "nbformat_minor": 0,
  "metadata": {
    "colab": {
      "provenance": [],
      "authorship_tag": "ABX9TyOUFCfzdEEkqCw3ZOnk1UPd",
      "include_colab_link": true
    },
    "kernelspec": {
      "name": "python3",
      "display_name": "Python 3"
    },
    "language_info": {
      "name": "python"
    }
  },
  "cells": [
    {
      "cell_type": "markdown",
      "metadata": {
        "id": "view-in-github",
        "colab_type": "text"
      },
      "source": [
        "<a href=\"https://colab.research.google.com/github/Tatyanka25/Homework/blob/master/%D0%A3%D1%80%D0%BE%D0%BA_4.ipynb\" target=\"_parent\"><img src=\"https://colab.research.google.com/assets/colab-badge.svg\" alt=\"Open In Colab\"/></a>"
      ]
    },
    {
      "cell_type": "code",
      "execution_count": null,
      "metadata": {
        "colab": {
          "base_uri": "https://localhost:8080/"
        },
        "id": "r-9hRvhvA3aS",
        "outputId": "30f74f54-f21b-4de4-ea82-1a97ee05823d"
      },
      "outputs": [
        {
          "output_type": "stream",
          "name": "stdout",
          "text": [
            "Введите оценку за первую контрольную:10\n",
            "Введите оценку за вторую контрольную:7\n",
            "Введите оценку за третью контрольную:8\n",
            "Введите оценку за четвертую контрольную:9\n",
            "Введите оценку за пятую контрольную:9\n",
            "8.6\n",
            "Поздравляю!\n"
          ]
        }
      ],
      "source": [
        "#@title Задание 1\n",
        "k1 = int(input('Введите оценку за первую контрольную:'))\n",
        "k2 = int(input('Введите оценку за вторую контрольную:'))\n",
        "k3 = int(input('Введите оценку за третью контрольную:'))\n",
        "k4 = int(input('Введите оценку за четвертую контрольную:'))\n",
        "k5 = int(input('Введите оценку за пятую контрольную:'))\n",
        "s = (k1 + k2 + k3 + k4 + k5)/5\n",
        "print(s)\n",
        "if (s>=8): \n",
        "  print(\"Поздравляю!\")"
      ]
    },
    {
      "cell_type": "code",
      "source": [
        "#@title Задание 2\n",
        "k = int(input(\"Введите число отличное от нуля:\"))\n",
        "if k>0:\n",
        "  print(k)\n",
        "else:\n",
        "  print(k*(-1))\n"
      ],
      "metadata": {
        "colab": {
          "base_uri": "https://localhost:8080/"
        },
        "id": "TDGtkfZnBVl2",
        "outputId": "7bf510d5-b178-4194-bf53-ec4fcef8ee86"
      },
      "execution_count": null,
      "outputs": [
        {
          "output_type": "stream",
          "name": "stdout",
          "text": [
            "Введите число отличное от нуля:-40\n",
            "40\n"
          ]
        }
      ]
    },
    {
      "cell_type": "code",
      "source": [
        "#@title Задание 3\n",
        "salary = int(input('Введите зарплату:'))\n",
        "years = int(input('Введите гола работы:'))\n",
        "if salary>=30000:\n",
        "  if years>=2:\n",
        "    print('Ваша ссуда одобрена')\n",
        "  else:\n",
        "    print('Вы должны отработать не менее 2 лет, чтобы получить одобрение')\n",
        "else:\n",
        "  print('Вы должны зарабатывать не менее $30 000 в год, чтобы получить одобрение')"
      ],
      "metadata": {
        "colab": {
          "base_uri": "https://localhost:8080/"
        },
        "id": "6NNo-JCdCH3v",
        "outputId": "e15434e0-6d84-4481-df3a-0933698f70e6"
      },
      "execution_count": null,
      "outputs": [
        {
          "output_type": "stream",
          "name": "stdout",
          "text": [
            "Введите зарплату:50000\n",
            "Введите гола работы:1\n",
            "Вы должны отработать не менее 2 лет, чтобы получить одобрение\n"
          ]
        }
      ]
    },
    {
      "cell_type": "code",
      "source": [
        "#@title Задание 4\n",
        "k = int(input('Введите баллы за контрольную работу:'))\n",
        "if k>=90:\n",
        "  print('A')\n",
        "elif k>=80:\n",
        "  print('B')\n",
        "elif k>=70:\n",
        "  print('C')\n",
        "elif k>=60:\n",
        "  print('D')\n",
        "else:\n",
        "  print('F')"
      ],
      "metadata": {
        "colab": {
          "base_uri": "https://localhost:8080/"
        },
        "id": "lV8HwzPjDkcb",
        "outputId": "2650169b-98e3-48a1-e4e9-fab2e126338c"
      },
      "execution_count": null,
      "outputs": [
        {
          "output_type": "stream",
          "name": "stdout",
          "text": [
            "Введите баллы за контрольную работу:40\n",
            "F\n"
          ]
        }
      ]
    },
    {
      "cell_type": "code",
      "source": [
        "#@title Задание 5\n",
        "a = int(input('Введите число:'))\n",
        "b = int(input('Введите число:'))\n",
        "c = int(input('Введите число:'))\n",
        "d = int(input('Введите число:'))\n",
        "if (a>b):\n",
        "  (a,b)=(a,b)\n",
        "else:\n",
        "  (a,b)=(b,a)\n",
        "if (a>c):\n",
        "  (a,c)=(a,c)\n",
        "else:\n",
        "  (a,c)=(c,a)\n",
        "if (a>d):\n",
        "  (a,d)=(a,d)\n",
        "else:\n",
        "  (a,d)=(d,a)\n",
        "if (b>c):\n",
        "  (b,c)=(b,c)\n",
        "else:\n",
        "  (b,c)=(c,b)\n",
        "if (b>d):\n",
        "  (b,d)=(b,d)\n",
        "else:\n",
        "  (b,d)=(d,b)\n",
        "if (c>d):\n",
        "  (c,d)=(c,d)\n",
        "else:\n",
        "  (c,d)=(d,c)\n",
        "print(a,'',b,'',c,'',d)\n",
        "\n",
        "\n",
        "\n"
      ],
      "metadata": {
        "colab": {
          "base_uri": "https://localhost:8080/"
        },
        "id": "OzwDDYoGEmBS",
        "outputId": "7ac07ea1-25cc-4216-c16a-45336be87709"
      },
      "execution_count": null,
      "outputs": [
        {
          "output_type": "stream",
          "name": "stdout",
          "text": [
            "Введите число:1\n",
            "Введите число:6\n",
            "Введите число:8\n",
            "Введите число:8\n",
            "8  8  6  1\n"
          ]
        }
      ]
    }
  ]
}