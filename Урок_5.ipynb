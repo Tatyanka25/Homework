{
  "nbformat": 4,
  "nbformat_minor": 0,
  "metadata": {
    "colab": {
      "provenance": [],
      "authorship_tag": "ABX9TyMYxa3inLMxnYATzqr912s5",
      "include_colab_link": true
    },
    "kernelspec": {
      "name": "python3",
      "display_name": "Python 3"
    },
    "language_info": {
      "name": "python"
    }
  },
  "cells": [
    {
      "cell_type": "markdown",
      "metadata": {
        "id": "view-in-github",
        "colab_type": "text"
      },
      "source": [
        "<a href=\"https://colab.research.google.com/github/Tatyanka25/Homework/blob/master/%D0%A3%D1%80%D0%BE%D0%BA_5.ipynb\" target=\"_parent\"><img src=\"https://colab.research.google.com/assets/colab-badge.svg\" alt=\"Open In Colab\"/></a>"
      ]
    },
    {
      "cell_type": "code",
      "execution_count": null,
      "metadata": {
        "colab": {
          "base_uri": "https://localhost:8080/"
        },
        "id": "34hZnOJWO04z",
        "outputId": "40c4e81c-f2b2-42e1-e507-e9676e3a7ad0"
      },
      "outputs": [
        {
          "output_type": "stream",
          "name": "stdout",
          "text": [
            "Введите число16\n",
            "[1, 2, 4, 8, 16]\n"
          ]
        }
      ],
      "source": [
        "#@title Задание 1\n",
        "k = int(input('Введите число:'))\n",
        "n = 1\n",
        "r = []\n",
        "while n <= k:\n",
        "  if k % n == 0:\n",
        "    r.append(n)\n",
        "  n = n + 1\n",
        "print(r)"
      ]
    },
    {
      "cell_type": "code",
      "source": [
        "#@title Задание 2\n",
        "k = int(input('Введите число:'))\n",
        "r = []\n",
        "for n in range(1, k+1):\n",
        "  if k % n == 0:\n",
        "    r.append(n)\n",
        "  n = n + 1\n",
        "print(r)"
      ],
      "metadata": {
        "colab": {
          "base_uri": "https://localhost:8080/"
        },
        "id": "o_tVEtOGSpzK",
        "outputId": "71946afc-e7c7-4906-cb68-c04b48440dfd"
      },
      "execution_count": null,
      "outputs": [
        {
          "output_type": "stream",
          "name": "stdout",
          "text": [
            "Введите число:16\n",
            "[1, 2, 4, 8, 16]\n"
          ]
        }
      ]
    },
    {
      "cell_type": "code",
      "source": [
        "#@title Задание 3\n",
        "print(\"КРН\", \"МРН\")\n",
        "for n in range(60,131,10):\n",
        "  k=n*(0.6214)\n",
        "  print(n,k)"
      ],
      "metadata": {
        "colab": {
          "base_uri": "https://localhost:8080/"
        },
        "id": "bzQMo0JMTtxn",
        "outputId": "95020e5c-47e7-4100-b538-7a8ab8026111"
      },
      "execution_count": null,
      "outputs": [
        {
          "output_type": "stream",
          "name": "stdout",
          "text": [
            "КРН МРН\n",
            "60 37.284\n",
            "70 43.498\n",
            "80 49.711999999999996\n",
            "90 55.925999999999995\n",
            "100 62.13999999999999\n",
            "110 68.354\n",
            "120 74.568\n",
            "130 80.782\n"
          ]
        }
      ]
    },
    {
      "cell_type": "code",
      "source": [
        "#@title Задание 4\n",
        "N = int(input(\"Введите число N:\"))\n",
        "for n in range(1,N+1):\n",
        "  m=n*n\n",
        "  if m<=N:\n",
        "    print(m)"
      ],
      "metadata": {
        "colab": {
          "base_uri": "https://localhost:8080/"
        },
        "id": "MR_ZrbKLVI3z",
        "outputId": "e9772c87-c658-49cc-fc64-34a828e68392"
      },
      "execution_count": null,
      "outputs": [
        {
          "output_type": "stream",
          "name": "stdout",
          "text": [
            "Введите число N:28\n",
            "1\n",
            "4\n",
            "9\n",
            "16\n",
            "25\n"
          ]
        }
      ]
    },
    {
      "cell_type": "code",
      "source": [
        "#@title Задание 5\n",
        "N = int(input('Введите количествол элементов массива:'))\n",
        "A=[]\n",
        "for i in range(N):\n",
        "  A.append(int(input(\"Введите элемен массива, не превосходящий 1000:\")))\n",
        "print(A)\n",
        "max=A[0]\n",
        "for i in range(N):\n",
        "  if i>i+1:\n",
        "    max=A[i]\n",
        "print(max)"
      ],
      "metadata": {
        "colab": {
          "base_uri": "https://localhost:8080/"
        },
        "id": "gzGcKA8HV9sm",
        "outputId": "0a81a1ad-3e0d-481d-e3e2-e34ce165f58c"
      },
      "execution_count": null,
      "outputs": [
        {
          "output_type": "stream",
          "name": "stdout",
          "text": [
            "Введите количествол элементов массива:6\n",
            "Введите элемен массива, не превосходящий 1000:5\n",
            "Введите элемен массива, не превосходящий 1000:4\n",
            "Введите элемен массива, не превосходящий 1000:3\n",
            "Введите элемен массива, не превосходящий 1000:2\n",
            "Введите элемен массива, не превосходящий 1000:1\n",
            "Введите элемен массива, не превосходящий 1000:3\n",
            "[5, 4, 3, 2, 1, 3]\n",
            "5\n"
          ]
        }
      ]
    },
    {
      "cell_type": "code",
      "source": [
        "#@title Задание 6\n",
        "N = int(input('Введите количествол элементов массива:'))\n",
        "A=[]\n",
        "for i in range(N):\n",
        "  A.append(int(input(\"Введите элемен массива, последний элемент = 0:\")))\n",
        "print(A)\n",
        "k=0\n",
        "for i in range(N-1):\n",
        "  if (A[i]%2 == 0):\n",
        "    k=k+1\n",
        "print(k)\n"
      ],
      "metadata": {
        "colab": {
          "base_uri": "https://localhost:8080/"
        },
        "id": "V48aBnlrW63q",
        "outputId": "dc1ed69b-f7de-40d8-90d6-a6c73f4326d3"
      },
      "execution_count": null,
      "outputs": [
        {
          "output_type": "stream",
          "name": "stdout",
          "text": [
            "Введите количествол элементов массива:4\n",
            "Введите элемен массива, последний элемент = 0:1\n",
            "Введите элемен массива, последний элемент = 0:2\n",
            "Введите элемен массива, последний элемент = 0:4\n",
            "Введите элемен массива, последний элемент = 0:0\n",
            "[1, 2, 4, 0]\n",
            "2\n"
          ]
        }
      ]
    },
    {
      "cell_type": "code",
      "source": [
        "#@title Задание 1\n",
        "n = int(input(\"Введите количество елочек:\"))\n",
        "for i in range(n):\n",
        "  print(\"   *   \")\n",
        "  print(\"  ***  \")\n",
        "  print(\" ***** \")\n",
        "  print(\"*******\")\n",
        "  print(\"   |   \")"
      ],
      "metadata": {
        "colab": {
          "base_uri": "https://localhost:8080/"
        },
        "id": "GMzqQjpJdUBV",
        "outputId": "86ba7ec9-446e-4d74-a0b5-fc2fab6bccc6"
      },
      "execution_count": null,
      "outputs": [
        {
          "output_type": "stream",
          "name": "stdout",
          "text": [
            "Введите количество елочек:2\n",
            "   *   \n",
            "  ***  \n",
            " ***** \n",
            "*******\n",
            "   |   \n",
            "   *   \n",
            "  ***  \n",
            " ***** \n",
            "*******\n",
            "   |   \n"
          ]
        }
      ]
    },
    {
      "cell_type": "code",
      "source": [
        "#@title Задание 2\n",
        "n, m = map(int, input().split())\n",
        "A = [[(i+j+1)%2 for j in range(m)] for i in range (n)]\n",
        "for i in range(n):\n",
        "  for j in range (m):\n",
        "    print(A[i][j], end = ' ')\n",
        "  print()  \n",
        "\n"
      ],
      "metadata": {
        "colab": {
          "base_uri": "https://localhost:8080/"
        },
        "id": "-Z9AgXy5eSHZ",
        "outputId": "9b77b801-f3ff-4a4a-fbe7-7a35ed015857"
      },
      "execution_count": null,
      "outputs": [
        {
          "output_type": "stream",
          "name": "stdout",
          "text": [
            "3 4\n",
            "1 0 1 0 \n",
            "0 1 0 1 \n",
            "1 0 1 0 \n"
          ]
        }
      ]
    },
    {
      "cell_type": "code",
      "source": [
        "#@title Задание 3\n",
        "n, m = map(int, input().split())\n",
        "A = [[(i*m+j+1) for j in range(m)] for i in range (n)]\n",
        "for i in range(n):\n",
        "  for j in range (m):\n",
        "    print(A[i][j], end = ' ')\n",
        "  print()  "
      ],
      "metadata": {
        "colab": {
          "base_uri": "https://localhost:8080/"
        },
        "id": "jnUA3nKH4bXE",
        "outputId": "ffbaf729-237a-4eca-c308-2d18c4176f16"
      },
      "execution_count": null,
      "outputs": [
        {
          "output_type": "stream",
          "name": "stdout",
          "text": [
            "4 4\n",
            "1 2 3 4 \n",
            "5 6 7 8 \n",
            "9 10 11 12 \n",
            "13 14 15 16 \n"
          ]
        }
      ]
    },
    {
      "cell_type": "code",
      "source": [
        "#@title Задание 4\n",
        "n, m = map(int, input().split())\n",
        "A = [[(j*n+i) for j in range(m)] for i in range (n)]\n",
        "for i in range(n):\n",
        "  for j in range (m):\n",
        "    print(A[i][j], end = ' ')\n",
        "  print()  "
      ],
      "metadata": {
        "colab": {
          "base_uri": "https://localhost:8080/"
        },
        "id": "Sk7lU2F9536s",
        "outputId": "bb1dd0e3-26b1-4e9c-c238-46a76d6874f9"
      },
      "execution_count": null,
      "outputs": [
        {
          "output_type": "stream",
          "name": "stdout",
          "text": [
            "5 6\n",
            "0 5 10 15 20 25 \n",
            "1 6 11 16 21 26 \n",
            "2 7 12 17 22 27 \n",
            "3 8 13 18 23 28 \n",
            "4 9 14 19 24 29 \n"
          ]
        }
      ]
    }
  ]
}