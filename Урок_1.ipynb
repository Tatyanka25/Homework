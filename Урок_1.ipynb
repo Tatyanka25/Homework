{
  "nbformat": 4,
  "nbformat_minor": 0,
  "metadata": {
    "colab": {
      "provenance": [],
      "authorship_tag": "ABX9TyMuzsoGh6oJnnb0dXU+uccn",
      "include_colab_link": true
    },
    "kernelspec": {
      "name": "python3",
      "display_name": "Python 3"
    },
    "language_info": {
      "name": "python"
    }
  },
  "cells": [
    {
      "cell_type": "markdown",
      "metadata": {
        "id": "view-in-github",
        "colab_type": "text"
      },
      "source": [
        "<a href=\"https://colab.research.google.com/github/Tatyanka25/Homework/blob/master/%D0%A3%D1%80%D0%BE%D0%BA_1.ipynb\" target=\"_parent\"><img src=\"https://colab.research.google.com/assets/colab-badge.svg\" alt=\"Open In Colab\"/></a>"
      ]
    },
    {
      "cell_type": "code",
      "execution_count": null,
      "metadata": {
        "id": "2c5zd-F39Qlo"
      },
      "outputs": [],
      "source": [
        "#@title Задание 1\n",
        "print('Кошка сказала \"мяу\"')"
      ]
    },
    {
      "cell_type": "code",
      "source": [
        "#@title Задание 2\n",
        "minets=int(input('Введите количество минут:'))\n",
        "seconds=minets*60\n",
        "print(seconds)"
      ],
      "metadata": {
        "id": "JO_6gpTw9dw1"
      },
      "execution_count": null,
      "outputs": []
    },
    {
      "cell_type": "code",
      "source": [
        "#@title Задание 3\n",
        "F=int(input('Введите будущее значение, которое вы хотите иметь на счету:'))\n",
        "r=float(input('Введите годовую процентную ставку:'))\n",
        "n=int(input('Введите количество лет для хранения:'))\n",
        "P=F/((1+r)**n)\n",
        "print(P)"
      ],
      "metadata": {
        "id": "xUl-Jzvh96se"
      },
      "execution_count": null,
      "outputs": []
    },
    {
      "cell_type": "code",
      "source": [
        "#@title Задание 4\n",
        "N=int(input('Введите целое число N:'))\n",
        "print('The next number for the number',N,'is',N+1)\n",
        "print('The previous number for the number',N,'is',N-1)\n"
      ],
      "metadata": {
        "id": "ReZ3xuxe-F8C"
      },
      "execution_count": null,
      "outputs": []
    },
    {
      "cell_type": "code",
      "source": [
        "#@title Задание 5\n",
        "number=int(input(\"Введите число:\"))\n",
        "print(number//10)"
      ],
      "metadata": {
        "id": "q2pChEFr-Stw"
      },
      "execution_count": null,
      "outputs": []
    },
    {
      "cell_type": "code",
      "source": [
        "#@title Задание 6\n",
        "number=int(input(\"Введите  трехзначное число:\"))\n",
        "first=number//100\n",
        "second1=number//10\n",
        "second=second1%10\n",
        "third=number%10\n",
        "print(first + second + third)"
      ],
      "metadata": {
        "id": "7dzZ0Ng9-V2v"
      },
      "execution_count": null,
      "outputs": []
    },
    {
      "cell_type": "code",
      "source": [
        "#@title Задание 7\n",
        "a=int(input('Введите количество рублей:'))\n",
        "b=int(input('Введите количество копеек:'))\n",
        "k=int(input('Введите количество пирогов'))\n",
        "a=a*k\n",
        "b=b*k\n",
        "a=a+b//100\n",
        "b=b%100\n",
        "print(a, ' ', b)\n"
      ],
      "metadata": {
        "colab": {
          "base_uri": "https://localhost:8080/"
        },
        "id": "B_TkiJAR-Y2t",
        "outputId": "6f8da7b7-43f4-4400-9248-bb2f041e81d8"
      },
      "execution_count": null,
      "outputs": [
        {
          "output_type": "stream",
          "name": "stdout",
          "text": [
            "Введите количество рублей:20\n",
            "Введите количество копеек:30\n",
            "Введите количество пирогов3\n",
            "60   90\n"
          ]
        }
      ]
    },
    {
      "cell_type": "code",
      "source": [
        "#@title Задание 8\n",
        "k1 = int(input(\"Введите количество учеников 1го класса:\"))\n",
        "k2 = int(input(\"Введите количество учеников 2го класса:\"))\n",
        "k3 = int(input(\"Введите количество учеников 3го класса:\"))\n",
        "result = k1//2 + k2//2 + k3//2 + k1%2 + k2%2 + k3%2\n",
        "print (\"Наименьшее количество парт:\", result)"
      ],
      "metadata": {
        "id": "MYnIViSb-b-N"
      },
      "execution_count": null,
      "outputs": []
    }
  ]
}